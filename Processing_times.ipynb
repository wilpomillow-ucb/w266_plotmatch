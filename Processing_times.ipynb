{
  "cells": [
    {
      "cell_type": "code",
      "execution_count": null,
      "metadata": {
        "id": "UFhO0momAmmr",
        "outputId": "5740190a-e2bc-46dd-859d-a1f9e29ac184"
      },
      "outputs": [
        {
          "name": "stderr",
          "output_type": "stream",
          "text": [
            "c:\\Users\\mywil\\AppData\\Local\\Programs\\Python\\Python312\\Lib\\site-packages\\tqdm\\auto.py:21: TqdmWarning: IProgress not found. Please update jupyter and ipywidgets. See https://ipywidgets.readthedocs.io/en/stable/user_install.html\n",
            "  from .autonotebook import tqdm as notebook_tqdm\n"
          ]
        },
        {
          "name": "stdout",
          "output_type": "stream",
          "text": [
            "WARNING:tensorflow:From c:\\Users\\mywil\\AppData\\Local\\Programs\\Python\\Python312\\Lib\\site-packages\\tf_keras\\src\\losses.py:2976: The name tf.losses.sparse_softmax_cross_entropy is deprecated. Please use tf.compat.v1.losses.sparse_softmax_cross_entropy instead.\n",
            "\n"
          ]
        }
      ],
      "source": [
        "# Combining the first and second set of movie tags into a single Python list\n",
        "from transformers import T5Tokenizer, T5ForConditionalGeneration, pipeline\n",
        "import pandas as pd\n",
        "from sklearn.feature_extraction.text import TfidfVectorizer\n",
        "from sklearn.metrics.pairwise import cosine_similarity\n",
        "from transformers import pipeline\n",
        "from datetime import datetime\n",
        "from concurrent.futures import ThreadPoolExecutor, as_completed\n",
        "\n",
        "# Assuming 'df' and 'movie_tags' are already defined and 'df' contains a 'short_synopsis' column\n",
        "# Initialize the classifier pipeline with the specified model\n",
        "classifier = pipeline('zero-shot-classification', model='facebook/bart-large-mnli')\n",
        "\n",
        "def classify_short_synopsis(short_synopsis, tags):\n",
        "    \"\"\"Classify a short synopsis and return top 10 tags.\"\"\"\n",
        "    classification = classifier(short_synopsis, tags, multi_label=True)\n",
        "    # Extract the labels with the highest scores\n",
        "    top_tags = [classification['labels'][i] for i in range(min(10, len(classification['labels'])))]\n",
        "    return top_tags\n",
        "\n",
        "# Step 4: For each movie, find the 10 tags with the highest similarity\n",
        "def get_top_tags(similarity_scores, tags, top_n=10):\n",
        "    top_indices = similarity_scores.argsort()[-top_n:][::-1]  # Indices of top N scores\n",
        "    return [tags[i] for i in top_indices]\n",
        "\n",
        "def classify_synopsis(synopsis):\n",
        "    \"\"\"\n",
        "    Classifies a given synopsis into genres.\n",
        "    \"\"\"\n",
        "    return classifier(synopsis, movie_tags)['labels'][0:5]\n",
        "\n"
      ]
    },
    {
      "cell_type": "code",
      "execution_count": null,
      "metadata": {
        "id": "FQw_wRXPAmmt"
      },
      "outputs": [],
      "source": [
        "df = pd.read_csv(r\"C:\\Users\\mywil\\OneDrive\\Documents\\Wilpo's Coding Projects\\PlotMatch\\data_tagged_imdb_rating.csv\").head(3600)\n",
        "\n",
        "# Helper function to decrease processing time\n",
        "\n",
        "def classify_in_parallel(df, num_workers=30):\n",
        "    \"\"\"\n",
        "    Classifies the synopses in the DataFrame in parallel.\n",
        "    \"\"\"\n",
        "    with ThreadPoolExecutor(max_workers=num_workers) as executor:\n",
        "        # Create a future for each synopsis classification\n",
        "        futures = [executor.submit(classify_synopsis, synopsis) for synopsis in df['short_synopsis']]\n",
        "\n",
        "        results = []\n",
        "        for future in as_completed(futures):\n",
        "            results.append(future.result())\n",
        "\n",
        "    return results\n",
        "\n",
        "movie_tags = [\n",
        "    \"Action\", \"Adventure\", \"Animation\", \"Biographical\", \"Comedy\", \"Crime\", \"Documentary\", \"Drama\",\n",
        "    \"Epic\", \"Fantasy\", \"Historical\", \"Horror\", \"Musical\", \"Mystery\", \"Noir\", \"Paranormal\",\n",
        "    \"Romance\", \"Sci-Fi\", \"Thriller\", \"War\", \"Western\", \"Zombie\", \"Superhero\", \"Silent\",\n",
        "    \"Independent\", \"Experimental\", \"Cult\", \"Political\", \"Satire\", \"Tragedy\", \"Dystopian\", \"Erotic\", \"Espionage\", \"Fairy Tale\",\n",
        "    \"Heist\", \"Martial Arts\", \"Mockumentary\", \"Monster\", \"Mythology\", \"Post-Apocalyptic\", \"Road Movie\", \"Space Opera\", \"Steampunk\", \"Detective\",\n",
        "    \"Supernatural\", \"Time Travel\", \"Cyberpunk\", \"Cooking\", \"Dance\", \"Police\"\n",
        "]\n",
        "\n",
        "results = classify_in_parallel(df)\n",
        "df['genre_classification'] = results"
      ]
    },
    {
      "cell_type": "code",
      "execution_count": null,
      "metadata": {
        "id": "G4HKb8WrAmmt",
        "outputId": "f25c11a5-2ef5-4776-a1bb-30729f51353f"
      },
      "outputs": [
        {
          "name": "stdout",
          "output_type": "stream",
          "text": [
            "Current Time: 22:36:10\n",
            "Current Time: 01:43:19\n",
            "Current Time: 01:43:20\n",
            "Current Time: 04:53:17\n",
            "Current Time: 04:53:18\n",
            "Current Time: 07:50:04\n",
            "Current Time: 07:50:05\n",
            "Current Time: 10:59:16\n",
            "Current Time: 10:59:16\n",
            "Current Time: 13:55:26\n",
            "Current Time: 13:55:26\n",
            "Current Time: 17:04:30\n",
            "Current Time: 17:04:30\n",
            "Current Time: 20:01:12\n",
            "Current Time: 20:01:12\n",
            "Current Time: 23:11:15\n",
            "Current Time: 23:11:15\n",
            "Current Time: 02:08:47\n",
            "Current Time: 02:08:47\n",
            "Current Time: 03:43:16\n"
          ]
        }
      ],
      "source": [
        "# Checking processing time with different chunk sizes\n",
        "chunksize = 600\n",
        "chunks_list = []\n",
        "\n",
        "for chunk in pd.read_csv(r\"C:\\Users\\mywil\\OneDrive\\Documents\\Wilpo's Coding Projects\\PlotMatch\\data_tagged_imdb_rating.csv\", chunksize=chunksize):\n",
        "    chunks_list.append(chunk)\n",
        "\n",
        "chunks_list = chunks_list[15:]\n",
        "len(chunks_list)\n",
        "\n",
        "count = 8\n",
        "for chunk_df in chunks_list:\n",
        "    count += 1\n",
        "\n",
        "    now = datetime.now()\n",
        "    current_time = now.strftime(\"%H:%M:%S\")\n",
        "    print(\"Current Time:\", current_time)\n",
        "\n",
        "    results = classify_in_parallel(chunk_df)\n",
        "    chunk_df['genre_classification'] = results\n",
        "\n",
        "    now = datetime.now()\n",
        "    current_time = now.strftime(\"%H:%M:%S\")\n",
        "    print(\"Current Time:\", current_time)\n",
        "\n",
        "    chunk_df.to_csv('tagged_results_'+str(count)+'.csv', index=False)"
      ]
    },
    {
      "cell_type": "code",
      "execution_count": null,
      "metadata": {
        "id": "byMVCuUeAmmu",
        "outputId": "1997b379-0e0d-43b2-ec65-5e61bedeac35"
      },
      "outputs": [
        {
          "name": "stdout",
          "output_type": "stream",
          "text": [
            "Completed\n"
          ]
        }
      ],
      "source": [
        "chunk_df.to_csv(\"tagged_results_0.csv\", index = False)\n",
        "print(\"Completed\")"
      ]
    },
    {
      "cell_type": "code",
      "execution_count": null,
      "metadata": {
        "id": "FJWLalNZAmmu"
      },
      "outputs": [],
      "source": [
        "df['tags_genre'] = df['short_synopsis'].apply(lambda x: classifier(x, movie_tags)['labels'][0:5])\n",
        "df.to_csv(\"data_tagged_4.csv\", index=False)\n",
        "\n",
        "now = datetime.now()\n",
        "current_time = now.strftime(\"%H:%M:%S\")\n",
        "print(\"Current Time:\", current_time)"
      ]
    }
  ],
  "metadata": {
    "kernelspec": {
      "display_name": "Python 3",
      "language": "python",
      "name": "python3"
    },
    "language_info": {
      "codemirror_mode": {
        "name": "ipython",
        "version": 3
      },
      "file_extension": ".py",
      "mimetype": "text/x-python",
      "name": "python",
      "nbconvert_exporter": "python",
      "pygments_lexer": "ipython3",
      "version": "3.12.2"
    },
    "colab": {
      "provenance": []
    }
  },
  "nbformat": 4,
  "nbformat_minor": 0
}